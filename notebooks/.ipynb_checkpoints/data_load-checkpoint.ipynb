{
 "cells": [
  {
   "cell_type": "code",
   "execution_count": 82,
   "id": "8ae1ae68-8c5e-47d9-bc89-c882535f4c74",
   "metadata": {},
   "outputs": [],
   "source": [
    "import pandas as pd\n",
    "from sqlalchemy import create_engine\n",
    "import pyodbc\n",
    "from datetime import datetime"
   ]
  },
  {
   "cell_type": "code",
   "execution_count": 36,
   "id": "7106327f-aa79-4f36-869e-e58967aebe76",
   "metadata": {},
   "outputs": [],
   "source": [
    "customers = pd.read_csv(r'../data\\olist_customers_dataset.csv')"
   ]
  },
  {
   "cell_type": "code",
   "execution_count": 37,
   "id": "7dbd3e98-7e66-4ba7-b6b0-2393ad160c0d",
   "metadata": {},
   "outputs": [
    {
     "data": {
      "text/html": [
       "<div>\n",
       "<style scoped>\n",
       "    .dataframe tbody tr th:only-of-type {\n",
       "        vertical-align: middle;\n",
       "    }\n",
       "\n",
       "    .dataframe tbody tr th {\n",
       "        vertical-align: top;\n",
       "    }\n",
       "\n",
       "    .dataframe thead th {\n",
       "        text-align: right;\n",
       "    }\n",
       "</style>\n",
       "<table border=\"1\" class=\"dataframe\">\n",
       "  <thead>\n",
       "    <tr style=\"text-align: right;\">\n",
       "      <th></th>\n",
       "      <th>customer_id</th>\n",
       "      <th>customer_unique_id</th>\n",
       "      <th>customer_zip_code_prefix</th>\n",
       "      <th>customer_city</th>\n",
       "      <th>customer_state</th>\n",
       "    </tr>\n",
       "  </thead>\n",
       "  <tbody>\n",
       "    <tr>\n",
       "      <th>0</th>\n",
       "      <td>06b8999e2fba1a1fbc88172c00ba8bc7</td>\n",
       "      <td>861eff4711a542e4b93843c6dd7febb0</td>\n",
       "      <td>14409</td>\n",
       "      <td>franca</td>\n",
       "      <td>SP</td>\n",
       "    </tr>\n",
       "    <tr>\n",
       "      <th>1</th>\n",
       "      <td>18955e83d337fd6b2def6b18a428ac77</td>\n",
       "      <td>290c77bc529b7ac935b93aa66c333dc3</td>\n",
       "      <td>9790</td>\n",
       "      <td>sao bernardo do campo</td>\n",
       "      <td>SP</td>\n",
       "    </tr>\n",
       "    <tr>\n",
       "      <th>2</th>\n",
       "      <td>4e7b3e00288586ebd08712fdd0374a03</td>\n",
       "      <td>060e732b5b29e8181a18229c7b0b2b5e</td>\n",
       "      <td>1151</td>\n",
       "      <td>sao paulo</td>\n",
       "      <td>SP</td>\n",
       "    </tr>\n",
       "    <tr>\n",
       "      <th>3</th>\n",
       "      <td>b2b6027bc5c5109e529d4dc6358b12c3</td>\n",
       "      <td>259dac757896d24d7702b9acbbff3f3c</td>\n",
       "      <td>8775</td>\n",
       "      <td>mogi das cruzes</td>\n",
       "      <td>SP</td>\n",
       "    </tr>\n",
       "    <tr>\n",
       "      <th>4</th>\n",
       "      <td>4f2d8ab171c80ec8364f7c12e35b23ad</td>\n",
       "      <td>345ecd01c38d18a9036ed96c73b8d066</td>\n",
       "      <td>13056</td>\n",
       "      <td>campinas</td>\n",
       "      <td>SP</td>\n",
       "    </tr>\n",
       "  </tbody>\n",
       "</table>\n",
       "</div>"
      ],
      "text/plain": [
       "                        customer_id                customer_unique_id  \\\n",
       "0  06b8999e2fba1a1fbc88172c00ba8bc7  861eff4711a542e4b93843c6dd7febb0   \n",
       "1  18955e83d337fd6b2def6b18a428ac77  290c77bc529b7ac935b93aa66c333dc3   \n",
       "2  4e7b3e00288586ebd08712fdd0374a03  060e732b5b29e8181a18229c7b0b2b5e   \n",
       "3  b2b6027bc5c5109e529d4dc6358b12c3  259dac757896d24d7702b9acbbff3f3c   \n",
       "4  4f2d8ab171c80ec8364f7c12e35b23ad  345ecd01c38d18a9036ed96c73b8d066   \n",
       "\n",
       "   customer_zip_code_prefix          customer_city customer_state  \n",
       "0                     14409                 franca             SP  \n",
       "1                      9790  sao bernardo do campo             SP  \n",
       "2                      1151              sao paulo             SP  \n",
       "3                      8775        mogi das cruzes             SP  \n",
       "4                     13056               campinas             SP  "
      ]
     },
     "execution_count": 37,
     "metadata": {},
     "output_type": "execute_result"
    }
   ],
   "source": [
    "customers.head()"
   ]
  },
  {
   "cell_type": "code",
   "execution_count": 6,
   "id": "c2850f0c-e6fd-4ce6-b78c-7c97dc03ea2c",
   "metadata": {},
   "outputs": [
    {
     "name": "stdout",
     "output_type": "stream",
     "text": [
      "<class 'pandas.core.frame.DataFrame'>\n",
      "RangeIndex: 99441 entries, 0 to 99440\n",
      "Data columns (total 5 columns):\n",
      " #   Column                    Non-Null Count  Dtype \n",
      "---  ------                    --------------  ----- \n",
      " 0   customer_id               99441 non-null  object\n",
      " 1   customer_unique_id        99441 non-null  object\n",
      " 2   customer_zip_code_prefix  99441 non-null  int64 \n",
      " 3   customer_city             99441 non-null  object\n",
      " 4   customer_state            99441 non-null  object\n",
      "dtypes: int64(1), object(4)\n",
      "memory usage: 3.8+ MB\n"
     ]
    }
   ],
   "source": [
    "customers.info()"
   ]
  },
  {
   "cell_type": "code",
   "execution_count": 8,
   "id": "8bc88415-90c1-4771-866b-3f943f2d1ed8",
   "metadata": {},
   "outputs": [
    {
     "data": {
      "text/plain": [
       "customer_id                 0\n",
       "customer_unique_id          0\n",
       "customer_zip_code_prefix    0\n",
       "customer_city               0\n",
       "customer_state              0\n",
       "dtype: int64"
      ]
     },
     "execution_count": 8,
     "metadata": {},
     "output_type": "execute_result"
    }
   ],
   "source": [
    "customers.isna().sum()"
   ]
  },
  {
   "cell_type": "code",
   "execution_count": 29,
   "id": "1981b9cf-0fdf-4387-9341-7602bb8dc807",
   "metadata": {},
   "outputs": [],
   "source": [
    "table_name_cst = 'customers'\n",
    "table_name_geoloc = 'geolocation'\n",
    "table_name_order_items = 'order_items'\n",
    "table_name_order_pay = 'order_payments'\n",
    "table_name_order_reviews = 'order_reviews'\n",
    "table_name_orders = 'orders'\n",
    "table_name_prd = 'products' \n",
    "table_name_sellers = 'sellers'\n",
    "tables_name_cat_trans = 'category_name_transactions'"
   ]
  },
  {
   "cell_type": "code",
   "execution_count": 49,
   "id": "b1a65446-7ad4-4cd8-b74f-84c8a36e0893",
   "metadata": {},
   "outputs": [],
   "source": [
    "engine = create_engine('mssql+pyodbc://@ASUS-ROG\\\\SQLEXPRESS/ecomerce_project?driver=ODBC+Driver+17+for+SQL+Server&Trusted_Connection=yes')"
   ]
  },
  {
   "cell_type": "code",
   "execution_count": null,
   "id": "3f3120f9-952f-4713-9245-0b847fad78b9",
   "metadata": {},
   "outputs": [],
   "source": [
    "customers.to_sql(table_name_cst,\n",
    "                engine,\n",
    "                schema='bronze',\n",
    "                if_exists='replace',\n",
    "                index=False)"
   ]
  },
  {
   "cell_type": "code",
   "execution_count": 38,
   "id": "2675b380-92fa-470f-8bd2-6f5833c04f65",
   "metadata": {},
   "outputs": [
    {
     "data": {
      "text/html": [
       "<div>\n",
       "<style scoped>\n",
       "    .dataframe tbody tr th:only-of-type {\n",
       "        vertical-align: middle;\n",
       "    }\n",
       "\n",
       "    .dataframe tbody tr th {\n",
       "        vertical-align: top;\n",
       "    }\n",
       "\n",
       "    .dataframe thead th {\n",
       "        text-align: right;\n",
       "    }\n",
       "</style>\n",
       "<table border=\"1\" class=\"dataframe\">\n",
       "  <thead>\n",
       "    <tr style=\"text-align: right;\">\n",
       "      <th></th>\n",
       "      <th>geolocation_zip_code_prefix</th>\n",
       "      <th>geolocation_lat</th>\n",
       "      <th>geolocation_lng</th>\n",
       "      <th>geolocation_city</th>\n",
       "      <th>geolocation_state</th>\n",
       "    </tr>\n",
       "  </thead>\n",
       "  <tbody>\n",
       "    <tr>\n",
       "      <th>0</th>\n",
       "      <td>1037</td>\n",
       "      <td>-23.545621</td>\n",
       "      <td>-46.639292</td>\n",
       "      <td>sao paulo</td>\n",
       "      <td>SP</td>\n",
       "    </tr>\n",
       "    <tr>\n",
       "      <th>1</th>\n",
       "      <td>1046</td>\n",
       "      <td>-23.546081</td>\n",
       "      <td>-46.644820</td>\n",
       "      <td>sao paulo</td>\n",
       "      <td>SP</td>\n",
       "    </tr>\n",
       "    <tr>\n",
       "      <th>2</th>\n",
       "      <td>1046</td>\n",
       "      <td>-23.546129</td>\n",
       "      <td>-46.642951</td>\n",
       "      <td>sao paulo</td>\n",
       "      <td>SP</td>\n",
       "    </tr>\n",
       "    <tr>\n",
       "      <th>3</th>\n",
       "      <td>1041</td>\n",
       "      <td>-23.544392</td>\n",
       "      <td>-46.639499</td>\n",
       "      <td>sao paulo</td>\n",
       "      <td>SP</td>\n",
       "    </tr>\n",
       "    <tr>\n",
       "      <th>4</th>\n",
       "      <td>1035</td>\n",
       "      <td>-23.541578</td>\n",
       "      <td>-46.641607</td>\n",
       "      <td>sao paulo</td>\n",
       "      <td>SP</td>\n",
       "    </tr>\n",
       "  </tbody>\n",
       "</table>\n",
       "</div>"
      ],
      "text/plain": [
       "   geolocation_zip_code_prefix  geolocation_lat  geolocation_lng  \\\n",
       "0                         1037       -23.545621       -46.639292   \n",
       "1                         1046       -23.546081       -46.644820   \n",
       "2                         1046       -23.546129       -46.642951   \n",
       "3                         1041       -23.544392       -46.639499   \n",
       "4                         1035       -23.541578       -46.641607   \n",
       "\n",
       "  geolocation_city geolocation_state  \n",
       "0        sao paulo                SP  \n",
       "1        sao paulo                SP  \n",
       "2        sao paulo                SP  \n",
       "3        sao paulo                SP  \n",
       "4        sao paulo                SP  "
      ]
     },
     "execution_count": 38,
     "metadata": {},
     "output_type": "execute_result"
    }
   ],
   "source": [
    "geolocation = pd.read_csv(r'../data\\olist_geolocation_dataset.csv')\n",
    "geolocation.isna().sum()"
   ]
  },
  {
   "cell_type": "code",
   "execution_count": 45,
   "id": "9cd651a2-3f23-43af-b4f3-b17593c962db",
   "metadata": {},
   "outputs": [
    {
     "name": "stdout",
     "output_type": "stream",
     "text": [
      "<class 'pandas.core.frame.DataFrame'>\n",
      "RangeIndex: 1000163 entries, 0 to 1000162\n",
      "Data columns (total 5 columns):\n",
      " #   Column                       Non-Null Count    Dtype  \n",
      "---  ------                       --------------    -----  \n",
      " 0   geolocation_zip_code_prefix  1000163 non-null  int64  \n",
      " 1   geolocation_lat              1000163 non-null  float64\n",
      " 2   geolocation_lng              1000163 non-null  float64\n",
      " 3   geolocation_city             1000163 non-null  object \n",
      " 4   geolocation_state            1000163 non-null  object \n",
      "dtypes: float64(2), int64(1), object(2)\n",
      "memory usage: 38.2+ MB\n"
     ]
    }
   ],
   "source": [
    "geolocation.info()"
   ]
  },
  {
   "cell_type": "code",
   "execution_count": 63,
   "id": "0e8cb925-a683-4c67-852d-04884d018685",
   "metadata": {},
   "outputs": [
    {
     "data": {
      "text/plain": [
       "order_id               0\n",
       "order_item_id          0\n",
       "product_id             0\n",
       "seller_id              0\n",
       "shipping_limit_date    0\n",
       "price                  0\n",
       "freight_value          0\n",
       "dtype: int64"
      ]
     },
     "execution_count": 63,
     "metadata": {},
     "output_type": "execute_result"
    }
   ],
   "source": [
    "order_items = pd.read_csv(r'../data\\olist_order_items_dataset.csv')\n",
    "order_items.isna().sum()"
   ]
  },
  {
   "cell_type": "code",
   "execution_count": 51,
   "id": "8ab57d5b-e6d5-4631-b5cc-9613e50380a4",
   "metadata": {},
   "outputs": [
    {
     "name": "stdout",
     "output_type": "stream",
     "text": [
      "<class 'pandas.core.frame.DataFrame'>\n",
      "RangeIndex: 112650 entries, 0 to 112649\n",
      "Data columns (total 7 columns):\n",
      " #   Column               Non-Null Count   Dtype  \n",
      "---  ------               --------------   -----  \n",
      " 0   order_id             112650 non-null  object \n",
      " 1   order_item_id        112650 non-null  int64  \n",
      " 2   product_id           112650 non-null  object \n",
      " 3   seller_id            112650 non-null  object \n",
      " 4   shipping_limit_date  112650 non-null  object \n",
      " 5   price                112650 non-null  float64\n",
      " 6   freight_value        112650 non-null  float64\n",
      "dtypes: float64(2), int64(1), object(4)\n",
      "memory usage: 6.0+ MB\n"
     ]
    }
   ],
   "source": [
    "order_items.info()"
   ]
  },
  {
   "cell_type": "code",
   "execution_count": 56,
   "id": "120accb1-bd13-4a4f-b8d3-ac875864c6c4",
   "metadata": {},
   "outputs": [
    {
     "data": {
      "text/plain": [
       "393"
      ]
     },
     "execution_count": 56,
     "metadata": {},
     "output_type": "execute_result"
    }
   ],
   "source": [
    "order_payments = pd.read_csv(r'../data\\olist_order_payments_dataset.csv')\n",
    "order_reviews = pd.read_csv(r'../data\\olist_order_reviews_dataset.csv')\n",
    "orders = pd.read_csv(r'../data\\olist_orders_dataset.csv')\n",
    "products = pd.read_csv(r'../data\\olist_products_dataset.csv')\n",
    "sellers = pd.read_csv(r'../data\\olist_sellers_dataset.csv')\n",
    "translation = pd.read_csv(r'../data\\product_category_name_translation.csv')"
   ]
  },
  {
   "cell_type": "code",
   "execution_count": 106,
   "id": "2bfcdfb2-3cbe-406a-bf23-5c61ef71c249",
   "metadata": {},
   "outputs": [],
   "source": [
    "def load_to_sql(df, table_name):\n",
    "    try:\n",
    "        start_time = datetime.now()\n",
    "        print(f'Start loading {table_name}')\n",
    "        df.columns = df.columns.str.strip()\n",
    "        df.to_sql(table_name, engine, schema='bronze', if_exists='replace', index=False)\n",
    "        end_time = datetime.now()\n",
    "        duration = (end_time - start_time).total_seconds()\n",
    "        print(f'Successfully Loaded {table_name}.\\nSchema: bronze.\\nTotal rows loaded: {len(df)}\\nTotal columns: {len(df.columns)}\\nColumns: {list(df.columns)}\\nLoad Duration: {duration} sec')\n",
    "        print('=================================================================================')\n",
    "        msg = f'{end_time.strftime('%Y-%m-%dT%H:%M:%S')} Loaded {table_name} table to bronze schema. Load duration: {duration} sec.\\n'\n",
    "    except Exception as e:\n",
    "        print(f'Error loading table: {table_name}')\n",
    "        print(f'Error: {e}\\n')\n",
    "        msg = f'{datetime.now().strftime('%Y-%m-%dT%H:%M:%S') Error {e} loading table: {table_name}.\\n}'\n",
    "    finally:\n",
    "        with open('log.txt', 'a') as f:\n",
    "            f.write()"
   ]
  },
  {
   "cell_type": "code",
   "execution_count": null,
   "id": "4f0a9ac4-37c8-4e23-b5d7-f34bf90eeb6d",
   "metadata": {},
   "outputs": [],
   "source": []
  },
  {
   "cell_type": "code",
   "execution_count": 107,
   "id": "8d3c52da-34ea-4cae-951c-d20f59f2f3cb",
   "metadata": {},
   "outputs": [
    {
     "name": "stdout",
     "output_type": "stream",
     "text": [
      "Start loading customers\n",
      "Successfully Loaded customers.\n",
      "Schema: bronze.\n",
      "Total rows loaded: 99441\n",
      "Total columns: 5\n",
      "Columns: ['customer_id', 'customer_unique_id', 'customer_zip_code_prefix', 'customer_city', 'customer_state']\n",
      "Load Duration: 1.727469 sec\n",
      "=================================================================================\n"
     ]
    }
   ],
   "source": [
    "# test load_to_sql(customers, table_name_cst)"
   ]
  },
  {
   "cell_type": "code",
   "execution_count": 108,
   "id": "72d4b77c-e029-43f5-8e4d-d00b22c2ce6f",
   "metadata": {},
   "outputs": [
    {
     "name": "stdout",
     "output_type": "stream",
     "text": [
      "Start loading customers\n",
      "Successfully Loaded customers.\n",
      "Schema: bronze.\n",
      "Total rows loaded: 99441\n",
      "Total columns: 5\n",
      "Columns: ['customer_id', 'customer_unique_id', 'customer_zip_code_prefix', 'customer_city', 'customer_state']\n",
      "Load Duration: 2.282912 sec\n",
      "=================================================================================\n",
      "Start loading order_payments\n",
      "Successfully Loaded order_payments.\n",
      "Schema: bronze.\n",
      "Total rows loaded: 103886\n",
      "Total columns: 5\n",
      "Columns: ['order_id', 'payment_sequential', 'payment_type', 'payment_installments', 'payment_value']\n",
      "Load Duration: 1.686753 sec\n",
      "=================================================================================\n",
      "Start loading geolocation\n",
      "Successfully Loaded geolocation.\n",
      "Schema: bronze.\n",
      "Total rows loaded: 1000163\n",
      "Total columns: 5\n",
      "Columns: ['geolocation_zip_code_prefix', 'geolocation_lat', 'geolocation_lng', 'geolocation_city', 'geolocation_state']\n",
      "Load Duration: 16.15013 sec\n",
      "=================================================================================\n",
      "Start loading order_items\n",
      "Successfully Loaded order_items.\n",
      "Schema: bronze.\n",
      "Total rows loaded: 112650\n",
      "Total columns: 7\n",
      "Columns: ['order_id', 'order_item_id', 'product_id', 'seller_id', 'shipping_limit_date', 'price', 'freight_value']\n",
      "Load Duration: 2.415434 sec\n",
      "=================================================================================\n",
      "Start loading order_payments\n",
      "Successfully Loaded order_payments.\n",
      "Schema: bronze.\n",
      "Total rows loaded: 103886\n",
      "Total columns: 5\n",
      "Columns: ['order_id', 'payment_sequential', 'payment_type', 'payment_installments', 'payment_value']\n",
      "Load Duration: 1.655606 sec\n",
      "=================================================================================\n",
      "Start loading order_reviews\n",
      "Successfully Loaded order_reviews.\n",
      "Schema: bronze.\n",
      "Total rows loaded: 99224\n",
      "Total columns: 7\n",
      "Columns: ['review_id', 'order_id', 'review_score', 'review_comment_title', 'review_comment_message', 'review_creation_date', 'review_answer_timestamp']\n",
      "Load Duration: 22.600722 sec\n",
      "=================================================================================\n",
      "Start loading orders\n",
      "Successfully Loaded orders.\n",
      "Schema: bronze.\n",
      "Total rows loaded: 99441\n",
      "Total columns: 8\n",
      "Columns: ['order_id', 'customer_id', 'order_status', 'order_purchase_timestamp', 'order_approved_at', 'order_delivered_carrier_date', 'order_delivered_customer_date', 'order_estimated_delivery_date']\n",
      "Load Duration: 25.828045 sec\n",
      "=================================================================================\n",
      "Start loading products\n",
      "Successfully Loaded products.\n",
      "Schema: bronze.\n",
      "Total rows loaded: 32951\n",
      "Total columns: 9\n",
      "Columns: ['product_id', 'product_category_name', 'product_name_lenght', 'product_description_lenght', 'product_photos_qty', 'product_weight_g', 'product_length_cm', 'product_height_cm', 'product_width_cm']\n",
      "Load Duration: 10.541957 sec\n",
      "=================================================================================\n",
      "Start loading sellers\n",
      "Successfully Loaded sellers.\n",
      "Schema: bronze.\n",
      "Total rows loaded: 3095\n",
      "Total columns: 4\n",
      "Columns: ['seller_id', 'seller_zip_code_prefix', 'seller_city', 'seller_state']\n",
      "Load Duration: 0.236014 sec\n",
      "=================================================================================\n",
      "Start loading category_name_transactions\n",
      "Successfully Loaded category_name_transactions.\n",
      "Schema: bronze.\n",
      "Total rows loaded: 71\n",
      "Total columns: 2\n",
      "Columns: ['product_category_name', 'product_category_name_english']\n",
      "Load Duration: 0.026266 sec\n",
      "=================================================================================\n"
     ]
    }
   ],
   "source": [
    "load_to_sql(customers, table_name_cst)\n",
    "load_to_sql(order_payments, table_name_order_pay)\n",
    "load_to_sql(geolocation, table_name_geoloc)\n",
    "load_to_sql(order_items, table_name_order_items)\n",
    "load_to_sql(order_payments, table_name_order_pay)\n",
    "load_to_sql(order_reviews, table_name_order_reviews)\n",
    "load_to_sql(orders, table_name_orders)\n",
    "load_to_sql(products, table_name_prd)\n",
    "load_to_sql(sellers, table_name_sellers)\n",
    "load_to_sql(translation, tables_name_cat_trans)"
   ]
  },
  {
   "cell_type": "code",
   "execution_count": null,
   "id": "e7e22e0e-4e63-4961-9779-df5cc292f6d2",
   "metadata": {},
   "outputs": [],
   "source": []
  }
 ],
 "metadata": {
  "kernelspec": {
   "display_name": "Python 3 (ipykernel)",
   "language": "python",
   "name": "python3"
  },
  "language_info": {
   "codemirror_mode": {
    "name": "ipython",
    "version": 3
   },
   "file_extension": ".py",
   "mimetype": "text/x-python",
   "name": "python",
   "nbconvert_exporter": "python",
   "pygments_lexer": "ipython3",
   "version": "3.13.1"
  }
 },
 "nbformat": 4,
 "nbformat_minor": 5
}
